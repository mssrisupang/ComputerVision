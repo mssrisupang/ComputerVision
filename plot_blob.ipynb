{
  "nbformat": 4,
  "nbformat_minor": 0,
  "metadata": {
    "kernelspec": {
      "display_name": "Python 3",
      "language": "python",
      "name": "python3"
    },
    "language_info": {
      "codemirror_mode": {
        "name": "ipython",
        "version": 3
      },
      "file_extension": ".py",
      "mimetype": "text/x-python",
      "name": "python",
      "nbconvert_exporter": "python",
      "pygments_lexer": "ipython3",
      "version": "3.7.3"
    },
    "varInspector": {
      "cols": {
        "lenName": 16,
        "lenType": 16,
        "lenVar": 40
      },
      "kernels_config": {
        "python": {
          "delete_cmd_postfix": "",
          "delete_cmd_prefix": "del ",
          "library": "var_list.py",
          "varRefreshCmd": "print(var_dic_list())"
        },
        "r": {
          "delete_cmd_postfix": ") ",
          "delete_cmd_prefix": "rm(",
          "library": "var_list.r",
          "varRefreshCmd": "cat(var_dic_list()) "
        }
      },
      "position": {
        "height": "556.719px",
        "left": "1375.45px",
        "right": "20px",
        "top": "120px",
        "width": "350px"
      },
      "types_to_exclude": [
        "module",
        "function",
        "builtin_function_or_method",
        "instance",
        "_Feature"
      ],
      "window_display": true
    },
    "colab": {
      "name": "plot_blob.ipynb",
      "provenance": [],
      "include_colab_link": true
    }
  },
  "cells": [
    {
      "cell_type": "markdown",
      "metadata": {
        "id": "view-in-github",
        "colab_type": "text"
      },
      "source": [
        "<a href=\"https://colab.research.google.com/github/srisupangth/ComputerVision/blob/main/plot_blob.ipynb\" target=\"_parent\"><img src=\"https://colab.research.google.com/assets/colab-badge.svg\" alt=\"Open In Colab\"/></a>"
      ]
    },
    {
      "cell_type": "code",
      "metadata": {
        "id": "jKfYOR5u2o7P"
      },
      "source": [
        "%matplotlib inline"
      ],
      "execution_count": null,
      "outputs": []
    },
    {
      "cell_type": "markdown",
      "metadata": {
        "id": "a459jY6r2o7T"
      },
      "source": [
        "\n",
        "# Blob Detection\n",
        "\n",
        "\n",
        "Blobs are bright on dark or dark on bright regions in an image. In\n",
        "this example, blobs are detected using 2 algorithms. \n",
        "\n",
        "Laplacian of Gaussian (LoG)\n",
        "-----------------------------\n",
        "This is the most accurate and slowest approach. It computes the Laplacian\n",
        "of Gaussian images with successively increasing standard deviation and\n",
        "stacks them up in a cube. Blobs are local maximas in this cube. Detecting\n",
        "larger blobs is especially slower because of larger kernel sizes during\n",
        "convolution. Only bright blobs on dark backgrounds are detected. See\n",
        ":py:meth:`skimage.feature.blob_log` for usage.\n",
        "\n",
        "Difference of Gaussian (DoG)\n",
        "----------------------------\n",
        "This is a faster approximation of LoG approach. In this case the image is\n",
        "blurred with increasing standard deviations and the difference between\n",
        "two successively blurred images are stacked up in a cube. This method\n",
        "suffers from the same disadvantage as LoG approach for detecting larger\n",
        "blobs. Blobs are again assumed to be bright on dark. See\n",
        ":py:meth:`skimage.feature.blob_dog` for usage.\n",
        "\n",
        "![image.png](attachment:image.png)\n",
        "\n",
        "\n"
      ]
    },
    {
      "cell_type": "code",
      "metadata": {
        "scrolled": true,
        "id": "8CctIt9u2o7V"
      },
      "source": [
        "from math import sqrt\n",
        "from skimage import data\n",
        "from skimage.feature import blob_dog, blob_log\n",
        "from skimage.color import rgb2gray\n",
        "import matplotlib.pyplot as plt\n",
        "\n",
        "\n",
        "\n",
        "image = data.camera()\n",
        "image_gray = rgb2gray(image)\n",
        "fig, ax = plt.subplots(figsize=(8, 4), sharex=True, sharey=True)\n",
        "ax.axis('off')\n",
        "ax.imshow(image,cmap=plt.cm.gray)\n",
        "ax.set_title('Input image')\n",
        "plt.tight_layout()\n",
        "plt.show()\n",
        "\n",
        "#Laplacian of Gaussian (LoG)\n",
        "#Scale invariant Interest points are local maxima in both position and scale.\n",
        "blobs_log = blob_log(image_gray, max_sigma=30, num_sigma=10, threshold=.1)\n",
        "\n",
        "# Compute radii in the 3rd column.\n",
        "blobs_log[:, 2] = blobs_log[:, 2] * sqrt(2)\n",
        "\n",
        "\n",
        "#Difference of Gaussian (DoG)\n",
        "blobs_dog = blob_dog(image_gray, max_sigma=30, threshold=.1)\n",
        "blobs_dog[:, 2] = blobs_dog[:, 2] * sqrt(2)\n",
        "\n",
        "\n",
        "\n",
        "blobs_list = [blobs_log, blobs_dog]\n",
        "colors = ['yellow', 'lime', 'red']\n",
        "titles = ['Laplacian of Gaussian', 'Difference of Gaussian']\n",
        "sequence = zip(blobs_list, colors, titles)\n",
        "\n",
        "fig, axes = plt.subplots(1, 2, figsize=(8, 4), sharex=True, sharey=True)\n",
        "\n",
        "ax = axes.ravel()\n",
        "\n",
        "for idx, (blobs, color, title) in enumerate(sequence):\n",
        "    ax[idx].set_title(title)\n",
        "    ax[idx].imshow(image,cmap=plt.cm.gray)\n",
        "    for blob in blobs:\n",
        "        y, x, r = blob\n",
        "        c = plt.Circle((x, y), r, color=color, linewidth=2, fill=False)\n",
        "        ax[idx].add_patch(c)\n",
        "    ax[idx].set_axis_off()\n",
        "\n",
        "plt.tight_layout()\n",
        "plt.show()"
      ],
      "execution_count": null,
      "outputs": []
    },
    {
      "cell_type": "markdown",
      "metadata": {
        "id": "HGMIyNUa2o7W"
      },
      "source": [
        "#### Experiment 1: Blob detection using scikit-image\n",
        "\n",
        "ให้นิสิตทำการ detect หา blob จากภาพ grayscale ที่กำหนดให้ โดยใช้ วิธีการ Difference of Gaussian (DoG) method. และทำการ บอกจำนวนของ วัตถุนั้นๆ (Farm) ว่าสามารถตรวจจับได้ทั้งหมดเป็นเท่าไหร่\n",
        "\n",
        "กำหนดให้ \n",
        "- min_sigma = 4\n",
        "- max_sigma = 8\n",
        "- threshold = 0.1\n",
        "- overlap = 0.6"
      ]
    },
    {
      "cell_type": "code",
      "metadata": {
        "id": "zq20cFXL2o7X"
      },
      "source": [
        "#import library\n",
        "from math import sqrt\n",
        "from skimage import data\n",
        "from skimage.feature import blob_dog, blob_log\n",
        "from skimage.color import rgb2gray\n",
        "from skimage import feature, color\n",
        "import matplotlib.pyplot as plt\n",
        "\n",
        "import cv2\n",
        "\n",
        "\n",
        "#input image\n",
        "\n",
        "image  = cv2.imread('images/farm.jpg') \n",
        "image  = color.rgb2gray(image)\n",
        "\n",
        "\n",
        "\n",
        "#### Start Your Code here using the Difference of Gaussian (DoG) method. ####\n",
        "\n",
        "# Difference of Gaussian (DoG)\n",
        "\n",
        "\n",
        "\n",
        "#### End Your Code ####\n",
        "\n",
        "\n",
        "fig = plt.figure(figsize = (15,15))\n",
        "ax = fig.add_subplot(1,1,1)\n",
        "\n",
        "for blob in blobs_dog:\n",
        "    y, x, r = blob\n",
        "    c = plt.Circle((x, y), r+1, color='red', linewidth=2, fill=False)\n",
        "    ax.add_patch(c)\n",
        "\n",
        "   \n",
        "\n",
        "\n",
        "plt.imshow(image,cmap=plt.cm.gray)\n",
        "plt.title('Center Pivot Farms')\n",
        "plt.tight_layout()\n",
        "plt.show()\n",
        "print('Number of center pivot farms detected: ' + str(len(blobs_dog)))\n",
        "\n",
        "\n"
      ],
      "execution_count": null,
      "outputs": []
    }
  ]
}